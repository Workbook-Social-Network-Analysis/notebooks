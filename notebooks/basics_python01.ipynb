{
 "cells": [
  {
   "cell_type": "markdown",
   "id": "substantial-variety",
   "metadata": {},
   "source": [
    "## Hello, Python!"
   ]
  },
  {
   "cell_type": "code",
   "execution_count": 1,
   "id": "invisible-reach",
   "metadata": {},
   "outputs": [
    {
     "name": "stdout",
     "output_type": "stream",
     "text": [
      "Hello, Python\n"
     ]
    }
   ],
   "source": [
    "print(\"Hello, Python\")"
   ]
  },
  {
   "cell_type": "markdown",
   "id": "breeding-business",
   "metadata": {},
   "source": [
    "### Check this out --> [for First time Programmer](https://wiki.python.org/moin/BeginnersGuide/NonProgrammers)\n",
    "If you are a first time programmer. feel free to click that link and play around."
   ]
  },
  {
   "cell_type": "code",
   "execution_count": 22,
   "id": "jewish-inclusion",
   "metadata": {},
   "outputs": [
    {
     "name": "stdout",
     "output_type": "stream",
     "text": [
      "1\n",
      "Walk me through each steps !\n"
     ]
    }
   ],
   "source": [
    "price = 1\n",
    "print(price)\n",
    "# increasing amount by 4\n",
    "price = price + 4\n",
    "\n",
    "if price > 0:\n",
    "    print(\"Walk me through each steps !\")\n"
   ]
  },
  {
   "cell_type": "markdown",
   "id": "packed-polls",
   "metadata": {},
   "source": [
    "#### Variable assignment: \n",
    "Here we create a variable called price and assign \n",
    "it the value of 0 using = operator, which is called the assignment operator."
   ]
  },
  {
   "cell_type": "code",
   "execution_count": 18,
   "id": "apparent-equation",
   "metadata": {},
   "outputs": [],
   "source": [
    "price = 1"
   ]
  },
  {
   "cell_type": "markdown",
   "id": "solar-gospel",
   "metadata": {},
   "source": [
    "#### Function calls:\n",
    "'print' is a Python function that displays the value passed to it on the screen. We call functions by putting parentheses after their name, \n",
    "and putting the inputs (or arguments) to the function in those parentheses."
   ]
  },
  {
   "cell_type": "code",
   "execution_count": 17,
   "id": "local-hospital",
   "metadata": {},
   "outputs": [
    {
     "name": "stdout",
     "output_type": "stream",
     "text": [
      "4\n"
     ]
    }
   ],
   "source": [
    "print(price)"
   ]
  },
  {
   "cell_type": "markdown",
   "id": "common-stand",
   "metadata": {},
   "source": [
    "#### Comments\n",
    "\n",
    "The first line above is a comment. In Python, comments begin with the # symbol."
   ]
  },
  {
   "cell_type": "code",
   "execution_count": 14,
   "id": "preceding-geometry",
   "metadata": {},
   "outputs": [
    {
     "name": "stdout",
     "output_type": "stream",
     "text": [
      "But I !don't want ANY price!\n"
     ]
    }
   ],
   "source": [
    "# increasing amount by 4\n",
    "price = price + 4"
   ]
  },
  {
   "cell_type": "markdown",
   "id": "tracked-client",
   "metadata": {},
   "source": [
    "#### conditionals\n",
    "\n",
    "Python is prized for its readability and the simplicity.\n",
    "\n",
    "'if' price is positive. then print:give me price\n",
    "\n",
    "[all keywords of python](https://docs.python.org/3/reference/lexical_analysis.html#keywords)"
   ]
  },
  {
   "cell_type": "code",
   "execution_count": 25,
   "id": "above-sponsorship",
   "metadata": {},
   "outputs": [
    {
     "name": "stdout",
     "output_type": "stream",
     "text": [
      "give me price!\n"
     ]
    }
   ],
   "source": [
    "# if is a conditional statement with keyword if. checkout the other keywords.\n",
    "if price > 0:\n",
    "    print(\"give me price!\")\n"
   ]
  },
  {
   "cell_type": "markdown",
   "id": "fifteen-wells",
   "metadata": {},
   "source": [
    "#### Numbers and arithmetic in Python\n",
    "\"Number\" is a fine informal name for the kind of thing, but if we wanted to be more technical, we could ask Python how it would describe the type of thing that price is:\n"
   ]
  },
  {
   "cell_type": "code",
   "execution_count": 26,
   "id": "metric-diamond",
   "metadata": {},
   "outputs": [
    {
     "data": {
      "text/plain": [
       "int"
      ]
     },
     "execution_count": 26,
     "metadata": {},
     "output_type": "execute_result"
    }
   ],
   "source": [
    "type(price)"
   ]
  },
  {
   "cell_type": "markdown",
   "id": "matched-location",
   "metadata": {},
   "source": [
    "[check different basic builtin numeric data types](https://docs.python.org/3/library/stdtypes.html#numeric-types-int-float-complex)\n",
    "\n",
    "[check different basic builtin data types](https://docs.python.org/3/library/stdtypes.html)\n"
   ]
  },
  {
   "cell_type": "code",
   "execution_count": 28,
   "id": "blocked-abraham",
   "metadata": {},
   "outputs": [
    {
     "data": {
      "text/plain": [
       "float"
      ]
     },
     "execution_count": 28,
     "metadata": {},
     "output_type": "execute_result"
    }
   ],
   "source": [
    "price = 4.05\n",
    "type(price)"
   ]
  },
  {
   "cell_type": "markdown",
   "id": "drawn-drive",
   "metadata": {},
   "source": [
    "type() is the second built-in function we've seen (after print())"
   ]
  },
  {
   "cell_type": "markdown",
   "id": "rotary-norwegian",
   "metadata": {},
   "source": [
    "A natural thing to want to do with numbers is perform arithmetic. We've seen the + operator for addition, \n",
    "and the * operator for multiplication (of a sort). Python also has us covered for the rest of the basic buttons\n",
    "on your calculator:\n",
    "\n",
    "\n",
    "| Operator |      Name      |                   Description                  |\n",
    "|:--------:|:--------------:|:----------------------------------------------:|\n",
    "| a + b    | Addition       | Sum of a and b                                 |\n",
    "| a - b    | Subtraction    | Difference of a and b                          |\n",
    "| a * b    | Multiplication | Product of a and b                             |\n",
    "| a / b    | True division  | Quotient of a and b                            |\n",
    "| a // b   | Floor division | Quotient of a and b, removing fractional parts |\n",
    "| a % b    | Modulus        | Integer remainder after division of a by b     |\n",
    "| a ** b   | Exponentiation | a raised to the power of b                     |\n",
    "| -a       | Negation       | The negative of a                              |"
   ]
  },
  {
   "cell_type": "code",
   "execution_count": 29,
   "id": "civilian-terror",
   "metadata": {},
   "outputs": [
    {
     "name": "stdout",
     "output_type": "stream",
     "text": [
      "2.5\n",
      "2\n"
     ]
    }
   ],
   "source": [
    "print(5 / 2)       # It results in \"True division\"\n",
    "print(5 // 2)      #  this // operator gives us a result that's rounded down to the next integer."
   ]
  },
  {
   "cell_type": "markdown",
   "id": "spanish-journalism",
   "metadata": {},
   "source": [
    "#### Order of operations\n",
    "\n",
    "The arithmetic we learned in primary school has conventions about the order in which operations are evaluated. Some remember these by a mnemonic such as **PEMDAS** - Parentheses, Exponents, Multiplication/Division, Addition/Subtraction."
   ]
  },
  {
   "cell_type": "code",
   "execution_count": 30,
   "id": "capital-sherman",
   "metadata": {},
   "outputs": [
    {
     "data": {
      "text/plain": [
       "7"
      ]
     },
     "execution_count": 30,
     "metadata": {},
     "output_type": "execute_result"
    }
   ],
   "source": [
    "8 - 3 + 2"
   ]
  },
  {
   "cell_type": "code",
   "execution_count": 31,
   "id": "gorgeous-brief",
   "metadata": {},
   "outputs": [
    {
     "data": {
      "text/plain": [
       "5"
      ]
     },
     "execution_count": 31,
     "metadata": {},
     "output_type": "execute_result"
    }
   ],
   "source": [
    "-3 + 4 * 2"
   ]
  },
  {
   "cell_type": "code",
   "execution_count": 33,
   "id": "passing-tiffany",
   "metadata": {},
   "outputs": [
    {
     "name": "stdout",
     "output_type": "stream",
     "text": [
      "Height in meters = 26.9 doesn`t make proper sense right\n"
     ]
    }
   ],
   "source": [
    "hat_height_cm = 25\n",
    "my_height_cm = 190\n",
    "# How tall am I, in meters, when wearing my hat?\n",
    "total_height_meters = hat_height_cm + my_height_cm / 100\n",
    "print(\"Height in meters =\", total_height_meters, \"doesn`t make proper sense right\")"
   ]
  },
  {
   "cell_type": "markdown",
   "id": "complicated-yeast",
   "metadata": {},
   "source": [
    "Parentheses are your useful here. To force Python to evaluate sub-expressions in desire order."
   ]
  },
  {
   "cell_type": "code",
   "execution_count": 35,
   "id": "valued-methodology",
   "metadata": {},
   "outputs": [
    {
     "name": "stdout",
     "output_type": "stream",
     "text": [
      "Height in meters = 2.15\n"
     ]
    }
   ],
   "source": [
    "## with parentheses in proper place  \n",
    "total_height_meters = (hat_height_cm + my_height_cm) / 100\n",
    "print(\"Height in meters =\", total_height_meters)"
   ]
  },
  {
   "cell_type": "markdown",
   "id": "threaded-ladder",
   "metadata": {},
   "source": [
    "#### Builtin functions for working with numbers¶\n",
    "_min_ and _max_ return the minimum and maximum of their arguments, respectively..."
   ]
  },
  {
   "cell_type": "code",
   "execution_count": 37,
   "id": "organic-ozone",
   "metadata": {},
   "outputs": [
    {
     "name": "stdout",
     "output_type": "stream",
     "text": [
      "1\n",
      "3\n"
     ]
    }
   ],
   "source": [
    "print(min(1, 2, 3))  # minimum of 1,2,3\n",
    "print(max(1, 2, 3))  # maximum of 1,2,3"
   ]
  },
  {
   "cell_type": "markdown",
   "id": "cleared-values",
   "metadata": {},
   "source": [
    "_abs_ returns the absolute value of it argument:"
   ]
  },
  {
   "cell_type": "code",
   "execution_count": 39,
   "id": "bibliographic-flesh",
   "metadata": {},
   "outputs": [
    {
     "name": "stdout",
     "output_type": "stream",
     "text": [
      "32\n",
      "32\n"
     ]
    }
   ],
   "source": [
    "print(abs(32))\n",
    "print(abs(-32))"
   ]
  },
  {
   "cell_type": "markdown",
   "id": "chief-czech",
   "metadata": {},
   "source": [
    "In addition to being the names of Python's two main numerical types, int and float can also be called as functions which convert their arguments to the corresponding type:\n"
   ]
  },
  {
   "cell_type": "code",
   "execution_count": 41,
   "id": "particular-reach",
   "metadata": {},
   "outputs": [
    {
     "name": "stdout",
     "output_type": "stream",
     "text": [
      "10.0\n",
      "3\n",
      "808\n"
     ]
    }
   ],
   "source": [
    "print(float(10))\n",
    "print(int(3.33))\n",
    "# They can even be called on strings!\n",
    "print(int('807') + 1)\n",
    "\n"
   ]
  },
  {
   "cell_type": "code",
   "execution_count": null,
   "id": "conceptual-lucas",
   "metadata": {},
   "outputs": [],
   "source": [
    "#### some more examples to play around"
   ]
  },
  {
   "cell_type": "code",
   "execution_count": 42,
   "id": "informed-defeat",
   "metadata": {},
   "outputs": [],
   "source": [
    "## finding area of circle \n",
    "pi = 3.14159 # approximate\n",
    "diameter = 3\n",
    "\n",
    "# Create a variable called 'radius' equal to half the diameter\n",
    "radius = diameter/2\n",
    "# Create a variable called 'area', using the formula for the area of a circle: pi times the radius squared\n",
    "\n",
    "area = pi*radius**2"
   ]
  },
  {
   "cell_type": "code",
   "execution_count": 44,
   "id": "vocal-mexico",
   "metadata": {},
   "outputs": [
    {
     "name": "stdout",
     "output_type": "stream",
     "text": [
      "[1, 2, 3] [3, 2, 1]\n",
      "simple way [3, 2, 1] [1, 2, 3]\n",
      "[1, 2, 3] [3, 2, 1]\n",
      "python way [3, 2, 1] [1, 2, 3]\n"
     ]
    }
   ],
   "source": [
    "## swaping to 2 variables\n",
    "a = [1, 2, 3]\n",
    "b = [3, 2, 1]\n",
    "print(a,b)\n",
    "temp = a\n",
    "a = b\n",
    "b = temp\n",
    "print(\"simple way\",a,b)\n",
    "\n",
    "# pythonic way\n",
    "a = [1, 2, 3]\n",
    "b = [3, 2, 1]\n",
    "print(a,b)\n",
    "a,b = b,a\n",
    "print(\"python way\",a,b)\n",
    "\n"
   ]
  },
  {
   "cell_type": "code",
   "execution_count": 46,
   "id": "environmental-namibia",
   "metadata": {},
   "outputs": [
    {
     "name": "stdout",
     "output_type": "stream",
     "text": [
      "Keep smiling/coding :)\n"
     ]
    }
   ],
   "source": [
    "print(\"Keep smiling/coding :)\")"
   ]
  }
 ],
 "metadata": {
  "kernelspec": {
   "display_name": "Python 3",
   "language": "python",
   "name": "python3"
  },
  "language_info": {
   "codemirror_mode": {
    "name": "ipython",
    "version": 3
   },
   "file_extension": ".py",
   "mimetype": "text/x-python",
   "name": "python",
   "nbconvert_exporter": "python",
   "pygments_lexer": "ipython3",
   "version": "3.7.10"
  }
 },
 "nbformat": 4,
 "nbformat_minor": 5
}
